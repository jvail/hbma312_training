{
 "cells": [
  {
   "cell_type": "markdown",
   "metadata": {
    "slideshow": {
     "slide_type": "slide"
    }
   },
   "source": [
    "# TP2: Architectural Analysis\n",
    "\n",
    "Extract topological data from MTG. \n",
    "\n",
    "These data will be used later for simulation of AppleTree architecture and development.\n",
    "\n",
    "For that we will follow different steps:\n",
    "* Load one of the tree digitised MTG\n",
    "* Explore the MTG as an architectural database \n",
    "  - number of vertices\n",
    "  - class of vertices\n",
    "  - number of scales\n",
    "  - properties\n",
    "  - ...\n",
    "  \n",
    "You can find the **documentation** of the MTG on the web : \n",
    "\n",
    "[MTG documentation](http://mtg.readthedocs.io/en/latest/user/api_mtg.html#overview)"
   ]
  },
  {
   "cell_type": "markdown",
   "metadata": {},
   "source": [
    "## Load an MTG file"
   ]
  },
  {
   "cell_type": "code",
   "execution_count": null,
   "metadata": {},
   "outputs": [],
   "source": [
    "from path import Path\n",
    "# load MTG files\n",
    "data = Path('data')\n",
    "\n",
    "breaburn, fuji1, fuji2= data.glob('apple*.mtg')\n",
    "breaburn"
   ]
  },
  {
   "cell_type": "code",
   "execution_count": null,
   "metadata": {},
   "outputs": [],
   "source": [
    "s =!cat $breaburn\n",
    "print '\\n'.join(s[:90])"
   ]
  },
  {
   "cell_type": "markdown",
   "metadata": {},
   "source": [
    "## Load MTGs in memory\n",
    "\n",
    "- Vertex identifier: vid\n",
    "- MTG data structure : g\n"
   ]
  },
  {
   "cell_type": "code",
   "execution_count": null,
   "metadata": {},
   "outputs": [],
   "source": [
    "%matplotlib notebook\n",
    "import pandas as pd\n",
    "\n",
    "from openalea.mtg import *\n",
    "gb = MTG(breaburn)\n",
    "g1 = MTG(fuji1) \n",
    "g2 = MTG(fuji2) \n",
    "\n",
    "g = g2\n",
    "#print g\n",
    "#g.display(max_scale=3)\n"
   ]
  },
  {
   "cell_type": "code",
   "execution_count": null,
   "metadata": {},
   "outputs": [],
   "source": [
    "# Print the number of scales\n",
    "nb_scales = g.nb_scales()\n",
    "\n",
    "# Print the vertices at different scales\n",
    "for scale in range(1, nb_scales):\n",
    "    print 'Nb vertices at scale ', scale, ': ', g.nb_vertices(scale=scale)\n",
    "    print 'Classes : ', list(set(g.class_name(vid) for vid in g.vertices(scale=scale)))\n"
   ]
  },
  {
   "cell_type": "markdown",
   "metadata": {},
   "source": [
    "# Classes represent modularities\n",
    "## Scale 1: P = Plant\n",
    "\n",
    "## scale 2: Axes \n",
    "- S: Short \n",
    "- R : Long  \n",
    "- M : Medium \n",
    "\n",
    "## scale 3 : Growth Unit\n",
    "- I : Inflorescence\n",
    "- U : Long GU\n",
    "- D : Short GU\n",
    "- W : Medium GU\n",
    "\n",
    "## Scale 4: phytomer\n",
    "- E: vegetative\n",
    "- F: fruit\n",
    "\n",
    "Fruit are not a modularity but we can encore specific attributes"
   ]
  },
  {
   "cell_type": "code",
   "execution_count": null,
   "metadata": {},
   "outputs": [],
   "source": [
    "# Select all the vertices of each classes\n",
    "\n",
    "classes = list(set(g.class_name(vid) for vid in g.vertices() if g.class_name(vid)))\n",
    "print classes\n",
    "\n",
    "def vertices(g, class_name='P'):\n",
    "    return [vid for vid in g.vertices() if g.class_name(vid)==class_name]\n",
    "\n",
    "vids_E = vertices(g, 'E')\n",
    "print 'Nb E', len(vids_E)\n"
   ]
  },
  {
   "cell_type": "markdown",
   "metadata": {},
   "source": [
    "# Exercise : Get properties on the MTG and on each vertices\n",
    "\n",
    "Get the following values using methods on g (MTG):\n",
    "* `property_names`: all the property names\n",
    "* `property`: get one property\n",
    "* access to one property (eg `hauteur`)\n",
    "* access to all the properties of one vertex (use g[vid] with vid = vids_E[0]\n",
    "* use the method `nid = g.node(vid)` for the same vid and access to some properties (nid.hauteur)\n",
    "* print the `label` and the `index` as well as the `class_name` of one vertex (using `g.index` or `node` API)"
   ]
  },
  {
   "cell_type": "code",
   "execution_count": null,
   "metadata": {},
   "outputs": [],
   "source": [
    "# Get one vertex\n",
    "vid = vids_E[0]\n",
    "\n",
    "# Properties on the MTG: this exclude all the topological properties\n",
    "#print g.property_names()\n",
    "\n",
    "# Retrieve one property for the MTG (dict)\n",
    "# TODO\n",
    "\n",
    "# There are several methods to get all the properties of a given vertex (eg vid)\n",
    "# Use g[vid], g.node(vid), access to one property using g.node(vid).hauteur\n",
    "\n",
    "# get the label, index and class_name\n"
   ]
  },
  {
   "cell_type": "markdown",
   "metadata": {},
   "source": [
    "## Exercise : Compute at GU scale : for each class and for each year, \n",
    "\n",
    "the number of growth unit by type and year\n",
    "\n",
    "- the class of a vertex : g.class_name(v)\n",
    "- the year is the encoded as the index: $label = class + index$\n",
    "year = g.index(v) or node.index()\n",
    "\n",
    "**NB**: In Python a *set* is a collection that return a unique value of each element"
   ]
  },
  {
   "cell_type": "code",
   "execution_count": null,
   "metadata": {},
   "outputs": [],
   "source": [
    "\n",
    "# Extract the years at scale 3\n",
    "# The year is coded in the index\n",
    "years = set(int(g.index(vid)) for vid in g.vertices(scale=3))\n",
    "print sorted(years)\n",
    "\n",
    "#print [g.class_name(vid) for vid in g.vertices(scale=3)]\n",
    "\n",
    "classes = set(g.class_name(vid) for vid in g.vertices(scale=3))\n",
    "print classes\n",
    "\n",
    "d = {}\n",
    "\n",
    "for _class in classes:\n",
    "    d[_class] = {}\n",
    "    for _year in years:\n",
    "        d[_class][_year] = 0\n",
    "        \n",
    "################################\n",
    "# TODO\n",
    "# Modify the following code\n",
    "\n",
    "for vid in g.vertices(scale=3):\n",
    "    _class = 'I' # replace this line by using class_name of vid\n",
    "    _year = 94 # TODO : use g.index to have the year\n",
    "    d[_class][_year] += 1\n",
    "\n",
    "################################\n",
    "\n",
    "\n",
    "print d\n",
    "\n",
    "# Build a Data frame for the dict\n",
    "df = pd.DataFrame.from_dict(d)\n",
    "df.plot()\n",
    "df"
   ]
  },
  {
   "cell_type": "code",
   "execution_count": null,
   "metadata": {},
   "outputs": [],
   "source": [
    "# Export to a pandas dataframe for processing in R\n",
    "\n",
    "# We need a dict with columns class, year and number\n",
    "\n",
    "dd = datadict = {'class':[], 'year': [], 'number':[]}\n",
    "for k in d:\n",
    "    for y in d[k]:\n",
    "        dd['class'].append(k)\n",
    "        dd['year'].append(y)\n",
    "        dd['number'].append(d[k][y])\n",
    "        \n",
    "\n",
    "df = pd.DataFrame(data=dd, index=None, columns=['class', 'year', 'number'])\n",
    "df.sort_values(['class', 'year'])\n",
    "df.to_csv('result_GU_num.csv', index=None)\n",
    "# You can view the content by uncomment the following line\n",
    "#df"
   ]
  },
  {
   "cell_type": "markdown",
   "metadata": {},
   "source": [
    "## Exercise : Extract for each Growth Unit the number of metamer (components at scale 4)\n",
    "\n",
    "**TODO**: \n",
    "* Extract all the vertices at GU scale\n",
    "* For each GU, extract the number of components (use `nb_components`) \n",
    "* Implement the function `data`"
   ]
  },
  {
   "cell_type": "code",
   "execution_count": null,
   "metadata": {},
   "outputs": [],
   "source": [
    "GUs = g.vertices(scale=3)\n",
    "\n",
    "################################\n",
    "# TODO\n",
    "\n",
    "def data(vid):\n",
    "    \"\"\" TODO \n",
    "    Return vid, the class name and the number of metamers per GU\n",
    "    \"\"\"\n",
    "    class_name = 'I' # TODO\n",
    "    nb_metamers = 1 # nb metamers is the number of components of a GU\n",
    "    return [vid, class_name, nb_metamers]\n",
    "\n",
    "################################\n",
    "\n",
    "nb_metamers = [data(vid) for vid in GUs]\n",
    "\n",
    "df_gu = pd.DataFrame(nb_metamers, columns=['vid', 'class', 'number'])\n",
    "\n",
    "df_gu.to_csv('result_metamer_num.csv', index=None)\n",
    "#df_gu"
   ]
  },
  {
   "cell_type": "markdown",
   "metadata": {},
   "source": [
    "## Exercise : Extract the number of ramification from each growth unit\n",
    "\n",
    "**Help**: To extract the number of ramification, use  `g.Sons(vid, EdgeType='+')`"
   ]
  },
  {
   "cell_type": "code",
   "execution_count": null,
   "metadata": {},
   "outputs": [],
   "source": [
    "# You can use the method Sons on MTG\n",
    "\n",
    "################################\n",
    "# TODO: Implement the following line\n",
    "def data_ramif(vid):\n",
    "    \"\"\" TODO \n",
    "    Return vid, the class name and the number of metamers per GU\n",
    "    \"\"\"\n",
    "    class_name = g.class_name(vid)\n",
    "    nb_ramif = 1 # replace this line by the number of ramifs for vid using g.Sons\n",
    "    return vid, class_name, nb_ramif\n",
    "\n",
    "nb_ramifs = [data_ramif(vid) for vid in GUs]\n",
    "\n",
    "\n",
    "\n",
    "################################\n",
    "\n",
    "df_ramif = pd.DataFrame(nb_ramifs, columns=['vid', 'class', 'nb_ramifs'])\n",
    "#df_ramif.to_csv('result_branch_num.csv', index=None)\n",
    "#df_ramif"
   ]
  },
  {
   "cell_type": "markdown",
   "metadata": {},
   "source": [
    "## Exercise: For each vertex at scale Metamer (scale =4), population of ramifications and position\n",
    "\n",
    "- vertex of the complex\n",
    "- Class of complex\n",
    "- year of complex\n",
    "- position / rank of each metamer\n",
    "- if no ramification, put B (blind) else the class of the complex of its child\n"
   ]
  },
  {
   "cell_type": "code",
   "execution_count": null,
   "metadata": {},
   "outputs": [],
   "source": [
    "def rank(v):\n",
    "    \"\"\" Returns the rank of a vertex within its complex. \"\"\"\n",
    "    cid = g.complex(v)\n",
    "    root_in_complex = g.component_roots(cid)[0]\n",
    "    return g.Height(root_in_complex, v)\n",
    "\n",
    "ramif_location = []\n",
    "\n",
    "################################\n",
    "# TODO\n",
    "\n",
    "for vid in g.vertices(scale=4):\n",
    "    # TODO : implement the following lines\n",
    "    complex_id = 1\n",
    "    c_class = 'I' # class of the complex\n",
    "    c_year = 94 # year of the complex\n",
    "    metamer_rank = 1 #\n",
    "    ramifs = [] # list of ramifications of the vid\n",
    "    nb_ramifs = 0 # number of ramification\n",
    "    \n",
    "    # Class of the complex of the ramif:\n",
    "    ramif_class = g.class_name(g.complex(ramifs[0])) if (nb_ramifs != 0) else 'B' \n",
    "    \n",
    "    ramif_location.append((complex_id, c_class, c_year, metamer_rank, nb_ramifs, ramif_class))\n",
    "\n",
    "################################\n",
    "\n",
    "    \n",
    "df_pop = pd.DataFrame(ramif_location, columns=['cid', 'class', 'year', 'metamer_rank', 'number_ramif', 'ramif_class'])\n",
    "#df_pop.to_csv('result_ramif_location.csv', index=None)\n",
    "    \n",
    "#df_pop"
   ]
  },
  {
   "cell_type": "markdown",
   "metadata": {},
   "source": [
    "## Exercise : For each vertex at scale Metamer, population of ramifications and position\n",
    "\n",
    "- vertex of the complex\n",
    "- Class of complex\n",
    "- year of complex\n",
    "- position / rank of each metamer\n",
    "- if no ramification, put B (blind) else the class of the complex of its child\n"
   ]
  },
  {
   "cell_type": "code",
   "execution_count": null,
   "metadata": {},
   "outputs": [],
   "source": [
    "ramif_location = []\n",
    "\n",
    "################################\n",
    "# TODO \n",
    "\n",
    "for vid in g.vertices(scale=4):\n",
    "    complex_id = g.complex(vid)\n",
    "    c_class = g.class_name(complex_id)\n",
    "    c_year = int(g.index(complex_id))\n",
    "    metamer_rank = rank(vid)\n",
    "    ramifs = g.Sons(vid, EdgeType='+')\n",
    "    if ramifs and g.class_name(g.complex(ramifs[0])) == \"I\":\n",
    "        # Todo: Retrieve the vegetative GU following the inflorescence (due to sympodial growth: EdgeType='+')\n",
    "        # Get the type of the first vegetative GU\n",
    "        # And the number of ramifications\n",
    "        nb_ramifs = 0\n",
    "        ramif_class = 'I'\n",
    "    else:\n",
    "        nb_ramifs = 0   \n",
    "        ramif_class = g.class_name(g.complex(ramifs[0])) if (nb_ramifs != 0) else 'B' \n",
    "    \n",
    "    ramif_location.append((complex_id, c_class, c_year, metamer_rank, nb_ramifs, ramif_class))\n",
    "\n",
    "################################\n",
    "\n",
    "#df_pop = pd.DataFrame(ramif_location, columns=['cid', 'class', 'year', 'metamer_rank', 'number_ramif', 'ramif_class'])\n",
    "#df_pop.to_csv('result_ramif_location_variant.csv', index=None)"
   ]
  },
  {
   "cell_type": "markdown",
   "metadata": {},
   "source": [
    "## Exercise : For each year, and each type  give the number of successor of each type\n",
    "\n",
    "For all the Growth Unit of a given class and  year : \n",
    "- get the number of successor (its child whose edge_type is '<') of each type\n",
    "\n",
    "There is a particular case for inflorescences:\n",
    "- In case of inflo GrowthUnit (class I), the successor is a ramification (edge-type == '+') due to its sympodial nature.\n",
    "\n"
   ]
  },
  {
   "cell_type": "code",
   "execution_count": null,
   "metadata": {},
   "outputs": [],
   "source": [
    "# {'D', 'I', 'U', 'W'} with I : inflorescence\n",
    "classes = set(g.class_name(vid) for vid in g.vertices(scale=3))\n",
    "\n",
    "\n",
    "d = {}\n",
    "\n",
    "for c in classes:\n",
    "    d[c] = {}\n",
    "    for y in years:\n",
    "        d[c][y] = {}\n",
    "        for sc in classes:\n",
    "            d[c][y][sc] = 0\n",
    "\n",
    "        \n",
    "def my_successors(vid):\n",
    "    if g.class_name(vid) != 'I':\n",
    "        cid = g.Successor(vid)\n",
    "        if cid is not None:\n",
    "            return [cid]\n",
    "        else:\n",
    "            return []\n",
    "    else:\n",
    "        return g.children(vid)\n",
    "\n",
    "################################\n",
    "# TODO\n",
    "\n",
    "for vid in GUs:\n",
    "    _class = g.class_name(vid)\n",
    "    _year = 94\n",
    "    kids = my_successors(vid)\n",
    "    for cid in kids:\n",
    "        s_class = 'I'\n",
    "        d[_class][_year][s_class] += 1\n",
    "\n",
    "################################\n",
    "\n",
    "# This part is used transform the dict into a list of rows\n",
    "# \n",
    "successors = []\n",
    "for klass in d:\n",
    "    for _year in d[klass]:\n",
    "        data = [klass, _year]\n",
    "        for succ_klass in classes:\n",
    "            data.append(d[klass][_year][succ_klass])\n",
    "        successors.append(data)\n",
    "\n",
    "columns= ['class', 'year']+list(classes)\n",
    "\n",
    "df_successors = pd.DataFrame(successors, columns=columns)\n",
    "df_successors.to_csv('result_successors.csv', index=None)\n",
    "#df_successors"
   ]
  },
  {
   "cell_type": "markdown",
   "metadata": {},
   "source": [
    "## Plot the geometry of the Tree\n",
    "\n",
    "Open an other notebook by clicking below:"
   ]
  },
  {
   "cell_type": "markdown",
   "metadata": {},
   "source": [
    "[Plot the trees with PlantFrame Algorithm](3D_plot.ipynb)"
   ]
  },
  {
   "cell_type": "markdown",
   "metadata": {},
   "source": [
    "![3dtree](breaburn_3d.png \"3dtree\")"
   ]
  },
  {
   "cell_type": "markdown",
   "metadata": {
    "slideshow": {
     "slide_type": "-"
    }
   },
   "source": [
    "# Solutions are [here](MTG_Analysis_solution.ipynb)"
   ]
  }
 ],
 "metadata": {
  "celltoolbar": "Format de la Cellule Texte Brut",
  "kernelspec": {
   "display_name": "IPython (Python 2)",
   "language": "python",
   "name": "python2"
  },
  "language_info": {
   "codemirror_mode": {
    "name": "ipython",
    "version": 2
   },
   "file_extension": ".py",
   "mimetype": "text/x-python",
   "name": "python",
   "nbconvert_exporter": "python",
   "pygments_lexer": "ipython2",
   "version": "2.7.15"
  }
 },
 "nbformat": 4,
 "nbformat_minor": 2
}
