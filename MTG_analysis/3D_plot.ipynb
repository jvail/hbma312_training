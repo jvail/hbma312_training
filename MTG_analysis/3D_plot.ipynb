{
 "cells": [
  {
   "cell_type": "markdown",
   "metadata": {},
   "source": [
    "# 3D plot of AppleTree (MTG)\n",
    "\n",
    "We use the plantframe algorithm.\n",
    "The doc is available on the [MTG documentation](http://mtg.readthedocs.io/en/latest/user/tutorial_plantframe.html)"
   ]
  },
  {
   "cell_type": "code",
   "execution_count": 1,
   "metadata": {},
   "outputs": [],
   "source": [
    "from path import Path\n",
    "# load MTG files\n",
    "data = Path('data')\n",
    "\n",
    "breaburn, fuji1, fuji2= data.glob('apple*.mtg')"
   ]
  },
  {
   "cell_type": "markdown",
   "metadata": {},
   "source": [
    "## Load the MTG and activate 3D visualisation"
   ]
  },
  {
   "cell_type": "code",
   "execution_count": 2,
   "metadata": {},
   "outputs": [
    {
     "name": "stdout",
     "output_type": "stream",
     "text": [
      "NOT using graph editor observer No module named grapheditor\n"
     ]
    }
   ],
   "source": [
    "%gui qt4\n",
    "from openalea.mtg import *\n",
    "g = MTG(breaburn)\n",
    "\n",
    "g = MTG(fuji2)"
   ]
  },
  {
   "cell_type": "markdown",
   "metadata": {},
   "source": [
    "## Compute the origin of the tree\n",
    "The properties *XX*, *YY*, and *ZZ* encode the position of the top of each Metamer. "
   ]
  },
  {
   "cell_type": "code",
   "execution_count": 3,
   "metadata": {},
   "outputs": [
    {
     "name": "stdout",
     "output_type": "stream",
     "text": [
      "(72.43, 5.78, 0.0)\n"
     ]
    }
   ],
   "source": [
    "root = g.node(1)\n",
    "origin = (root.XX, root.YY, 0.)\n",
    "print origin\n"
   ]
  },
  {
   "cell_type": "markdown",
   "metadata": {},
   "source": [
    "## PlantFrame Algorithm\n",
    "\n",
    "The plantframe algorithm is an algo to solve constraints when the problem is under constrained.\n",
    "Here we specify the constraints for point position and metamer diameter (*diam*)"
   ]
  },
  {
   "cell_type": "code",
   "execution_count": 4,
   "metadata": {},
   "outputs": [],
   "source": [
    "fuji_unit = 10\n",
    "breaburn_unit = 1000\n",
    "unit = fuji_unit\n",
    "\n",
    "dressing_data = plantframe.DressingData(DiameterUnit=unit)\n",
    "pf = plantframe.PlantFrame(g, TopDiameter='diam', DressingData=dressing_data)"
   ]
  },
  {
   "cell_type": "code",
   "execution_count": 5,
   "metadata": {},
   "outputs": [
    {
     "data": {
      "text/plain": [
       "<openalea.plantgl.scenegraph._pglsg.Scene at 0x1127b4fa0>"
      ]
     },
     "execution_count": 5,
     "metadata": {},
     "output_type": "execute_result"
    }
   ],
   "source": [
    "pf.plot(gc=True, origins=[origin])"
   ]
  },
  {
   "cell_type": "code",
   "execution_count": null,
   "metadata": {},
   "outputs": [],
   "source": []
  }
 ],
 "metadata": {
  "kernelspec": {
   "display_name": "IPython (Python 2)",
   "language": "python",
   "name": "python2"
  },
  "language_info": {
   "codemirror_mode": {
    "name": "ipython",
    "version": 2
   },
   "file_extension": ".py",
   "mimetype": "text/x-python",
   "name": "python",
   "nbconvert_exporter": "python",
   "pygments_lexer": "ipython2",
   "version": "2.7.14"
  }
 },
 "nbformat": 4,
 "nbformat_minor": 2
}
